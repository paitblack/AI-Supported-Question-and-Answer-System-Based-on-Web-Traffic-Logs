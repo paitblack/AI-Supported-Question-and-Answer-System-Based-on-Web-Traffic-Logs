{
 "cells": [
  {
   "cell_type": "markdown",
   "metadata": {},
   "source": [
    "DATA PREPROCESSING"
   ]
  },
  {
   "cell_type": "markdown",
   "metadata": {},
   "source": [
    "First of all, to find the pattern of each log of the data , regular expression was used. Then, by checking the pattern which are matched, they were added to a dictionary one by one. Dictionary converted to a pandas DataFrame. Here is the code:"
   ]
  },
  {
   "cell_type": "code",
   "execution_count": 1,
   "metadata": {},
   "outputs": [],
   "source": [
    "import pandas as pd\n",
    "import re\n",
    "\n",
    "pattern = re.compile(r'(\\d+\\.\\d+\\.\\d+\\.\\d+) - - \\[(.*?)\\] \"(.*?)\" (\\d+) (\\d+)')\n",
    "\n",
    "data = {\"ip\":[],\"data_time\":[],\"request_method\":[],\"request_path\":[],\"protocol\":[],\"status_code\":[],\"response_size\":[]}\n",
    "\n",
    "with open(\"access_log.txt\",\"r\") as file:\n",
    "    log_data = file.readlines()\n",
    "\n",
    "for line in log_data:\n",
    "    correct = pattern.match(line)\n",
    "    if correct:\n",
    "        ip, datetime, request, status, size = correct.groups()\n",
    "        method, path, protocol = request.split()\n",
    "\n",
    "        data[\"ip\"].append(ip)\n",
    "        data[\"data_time\"].append(datetime)\n",
    "        data[\"request_method\"].append(method)\n",
    "        data[\"request_path\"].append(path)\n",
    "        data[\"protocol\"].append(protocol)\n",
    "        data[\"status_code\"].append(int(status))\n",
    "        data[\"response_size\"].append(int(size))\n",
    "\n",
    "df = pd.DataFrame.from_dict(data)\n",
    "df.to_csv(\"data.csv\",index=False)"
   ]
  },
  {
   "cell_type": "markdown",
   "metadata": {},
   "source": [
    "By printing the head of our data,"
   ]
  },
  {
   "cell_type": "code",
   "execution_count": 2,
   "metadata": {},
   "outputs": [
    {
     "data": {
      "text/html": [
       "<div>\n",
       "<style scoped>\n",
       "    .dataframe tbody tr th:only-of-type {\n",
       "        vertical-align: middle;\n",
       "    }\n",
       "\n",
       "    .dataframe tbody tr th {\n",
       "        vertical-align: top;\n",
       "    }\n",
       "\n",
       "    .dataframe thead th {\n",
       "        text-align: right;\n",
       "    }\n",
       "</style>\n",
       "<table border=\"1\" class=\"dataframe\">\n",
       "  <thead>\n",
       "    <tr style=\"text-align: right;\">\n",
       "      <th></th>\n",
       "      <th>ip</th>\n",
       "      <th>data_time</th>\n",
       "      <th>request_method</th>\n",
       "      <th>request_path</th>\n",
       "      <th>protocol</th>\n",
       "      <th>status_code</th>\n",
       "      <th>response_size</th>\n",
       "    </tr>\n",
       "  </thead>\n",
       "  <tbody>\n",
       "    <tr>\n",
       "      <th>0</th>\n",
       "      <td>10.223.157.186</td>\n",
       "      <td>15/Jul/2009:14:58:59 -0700</td>\n",
       "      <td>GET</td>\n",
       "      <td>/</td>\n",
       "      <td>HTTP/1.1</td>\n",
       "      <td>403</td>\n",
       "      <td>202</td>\n",
       "    </tr>\n",
       "    <tr>\n",
       "      <th>1</th>\n",
       "      <td>10.223.157.186</td>\n",
       "      <td>15/Jul/2009:14:58:59 -0700</td>\n",
       "      <td>GET</td>\n",
       "      <td>/favicon.ico</td>\n",
       "      <td>HTTP/1.1</td>\n",
       "      <td>404</td>\n",
       "      <td>209</td>\n",
       "    </tr>\n",
       "    <tr>\n",
       "      <th>2</th>\n",
       "      <td>10.216.113.172</td>\n",
       "      <td>16/Jul/2009:02:51:29 -0700</td>\n",
       "      <td>GET</td>\n",
       "      <td>/assets/css/reset.css</td>\n",
       "      <td>HTTP/1.1</td>\n",
       "      <td>200</td>\n",
       "      <td>1014</td>\n",
       "    </tr>\n",
       "    <tr>\n",
       "      <th>3</th>\n",
       "      <td>10.216.113.172</td>\n",
       "      <td>16/Jul/2009:02:51:29 -0700</td>\n",
       "      <td>GET</td>\n",
       "      <td>/assets/css/960.css</td>\n",
       "      <td>HTTP/1.1</td>\n",
       "      <td>200</td>\n",
       "      <td>6206</td>\n",
       "    </tr>\n",
       "    <tr>\n",
       "      <th>4</th>\n",
       "      <td>10.216.113.172</td>\n",
       "      <td>16/Jul/2009:02:51:29 -0700</td>\n",
       "      <td>GET</td>\n",
       "      <td>/assets/js/the-associates.js</td>\n",
       "      <td>HTTP/1.1</td>\n",
       "      <td>200</td>\n",
       "      <td>4492</td>\n",
       "    </tr>\n",
       "  </tbody>\n",
       "</table>\n",
       "</div>"
      ],
      "text/plain": [
       "               ip                   data_time request_method  \\\n",
       "0  10.223.157.186  15/Jul/2009:14:58:59 -0700            GET   \n",
       "1  10.223.157.186  15/Jul/2009:14:58:59 -0700            GET   \n",
       "2  10.216.113.172  16/Jul/2009:02:51:29 -0700            GET   \n",
       "3  10.216.113.172  16/Jul/2009:02:51:29 -0700            GET   \n",
       "4  10.216.113.172  16/Jul/2009:02:51:29 -0700            GET   \n",
       "\n",
       "                   request_path  protocol  status_code  response_size  \n",
       "0                             /  HTTP/1.1          403            202  \n",
       "1                  /favicon.ico  HTTP/1.1          404            209  \n",
       "2         /assets/css/reset.css  HTTP/1.1          200           1014  \n",
       "3           /assets/css/960.css  HTTP/1.1          200           6206  \n",
       "4  /assets/js/the-associates.js  HTTP/1.1          200           4492  "
      ]
     },
     "execution_count": 2,
     "metadata": {},
     "output_type": "execute_result"
    }
   ],
   "source": [
    "import pandas as pd\n",
    "dframe = pd.read_csv(\"data.csv\")\n",
    "dframe.head()"
   ]
  },
  {
   "cell_type": "markdown",
   "metadata": {},
   "source": [
    "we can see that our data is separated correctly."
   ]
  },
  {
   "cell_type": "markdown",
   "metadata": {},
   "source": [
    "To see if there is any row seperated by a mistake,"
   ]
  },
  {
   "cell_type": "code",
   "execution_count": 3,
   "metadata": {},
   "outputs": [
    {
     "name": "stdout",
     "output_type": "stream",
     "text": [
      "ip                54\n",
      "data_time         54\n",
      "request_method    54\n",
      "request_path      54\n",
      "protocol          54\n",
      "status_code       54\n",
      "response_size     54\n",
      "dtype: int64\n"
     ]
    }
   ],
   "source": [
    "print(dframe.notna().sum())"
   ]
  },
  {
   "cell_type": "markdown",
   "metadata": {},
   "source": [
    "we can check if there are equal values ​​in each column. The data preprocessing appears to be well done."
   ]
  },
  {
   "cell_type": "markdown",
   "metadata": {},
   "source": [
    "In order to get a regular structure and not have to deal with columns, I will convert the data into regular sentences and add them as a new column."
   ]
  },
  {
   "cell_type": "code",
   "execution_count": 4,
   "metadata": {},
   "outputs": [
    {
     "name": "stdout",
     "output_type": "stream",
     "text": [
      "               ip                   data_time request_method  \\\n",
      "0  10.223.157.186  15/Jul/2009:14:58:59 -0700            GET   \n",
      "1  10.223.157.186  15/Jul/2009:14:58:59 -0700            GET   \n",
      "2  10.216.113.172  16/Jul/2009:02:51:29 -0700            GET   \n",
      "3  10.216.113.172  16/Jul/2009:02:51:29 -0700            GET   \n",
      "4  10.216.113.172  16/Jul/2009:02:51:29 -0700            GET   \n",
      "\n",
      "                   request_path  protocol  status_code  response_size  \\\n",
      "0                             /  HTTP/1.1          403            202   \n",
      "1                  /favicon.ico  HTTP/1.1          404            209   \n",
      "2         /assets/css/reset.css  HTTP/1.1          200           1014   \n",
      "3           /assets/css/960.css  HTTP/1.1          200           6206   \n",
      "4  /assets/js/the-associates.js  HTTP/1.1          200           4492   \n",
      "\n",
      "                                                                                                                                                                                                                                     text  \n",
      "0                              User with IP 10.223.157.186, made request of type GET, on date and time 15/Jul/2009:14:58:59 -0700, accessed request path /, used HTTP/1.1 protocol, returned 403 status code, received 202 bytes of data.  \n",
      "1                   User with IP 10.223.157.186, made request of type GET, on date and time 15/Jul/2009:14:58:59 -0700, accessed request path /favicon.ico, used HTTP/1.1 protocol, returned 404 status code, received 209 bytes of data.  \n",
      "2         User with IP 10.216.113.172, made request of type GET, on date and time 16/Jul/2009:02:51:29 -0700, accessed request path /assets/css/reset.css, used HTTP/1.1 protocol, returned 200 status code, received 1014 bytes of data.  \n",
      "3           User with IP 10.216.113.172, made request of type GET, on date and time 16/Jul/2009:02:51:29 -0700, accessed request path /assets/css/960.css, used HTTP/1.1 protocol, returned 200 status code, received 6206 bytes of data.  \n",
      "4  User with IP 10.216.113.172, made request of type GET, on date and time 16/Jul/2009:02:51:29 -0700, accessed request path /assets/js/the-associates.js, used HTTP/1.1 protocol, returned 200 status code, received 4492 bytes of data.  \n"
     ]
    }
   ],
   "source": [
    "import pandas as pd\n",
    "\n",
    "df = pd.read_csv(\"data.csv\")\n",
    "texts = []\n",
    "\n",
    "for index, row in df.iterrows():\n",
    "    ip = row[\"ip\"]\n",
    "    time = row[\"data_time\"]\n",
    "    method = row[\"request_method\"]\n",
    "    path = row[\"request_path\"]\n",
    "    protocol = row[\"protocol\"]\n",
    "    status = row[\"status_code\"]\n",
    "    size = row[\"response_size\"]\n",
    "\n",
    "    new_line = f\"User with IP {ip}, made request of type {method}, on date and time {time}, accessed request path {path}, used {protocol} protocol, returned {status} status code, received {size} bytes of data.\"\n",
    "\n",
    "    texts.append(new_line)\n",
    "\n",
    "df[\"text\"] = texts\n",
    "df.to_csv(\"data.csv\", index=False)\n",
    "\n",
    "pd.set_option('display.max_colwidth', None)\n",
    "\n",
    "print(df.head())"
   ]
  },
  {
   "cell_type": "markdown",
   "metadata": {},
   "source": [
    "Now, we need to convert our data into vectors and transfer them to the vector database. \n",
    "FAISS Vector Database was used.\n",
    "To see codes, check the py file called \"log_vectorizer\""
   ]
  }
 ],
 "metadata": {
  "kernelspec": {
   "display_name": "Python 3",
   "language": "python",
   "name": "python3"
  },
  "language_info": {
   "codemirror_mode": {
    "name": "ipython",
    "version": 3
   },
   "file_extension": ".py",
   "mimetype": "text/x-python",
   "name": "python",
   "nbconvert_exporter": "python",
   "pygments_lexer": "ipython3",
   "version": "3.11.0"
  }
 },
 "nbformat": 4,
 "nbformat_minor": 2
}
